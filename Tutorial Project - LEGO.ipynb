{
 "cells": [
  {
   "cell_type": "markdown",
   "metadata": {
    "lang": "en"
   },
   "source": [
    "# Introduction\n",
    "<p>This my very first python 'Data Science' project from DataCamp.</p>\n",
    "<p>In this project, I will be analyzing a fascinating dataset on every single lego block that has ever been built! </p>\n",
    "<p>The data for this analysis was sourced from the rebrickable.com lego database and it was downloaded in a csv format. The files on the website are updated automatically generated at the end of every month and the features of the new data you'll source may vary to the one used in this analysis because of the variation in the dates. The data used in this project is from May 2019... 2019-06-01 12:27:47 </p>\n",
    "\n",
    "\n",
    "![title](lego.jpeg)"
   ]
  },
  {
   "cell_type": "markdown",
   "metadata": {
    "code_folding": []
   },
   "source": [
    "# Reading the Data and Exploring it further\n",
    "<p>The initial data to be used is the 'colors' logo dataset on the Rebrickable website. The usual python module for importing csv data files into python is Pandas' read_csv. This will be imported and the next bit of analysis will begin. </p>"
   ]
  },
  {
   "cell_type": "markdown",
   "metadata": {},
   "source": [
    "## First Task is to Read the Data"
   ]
  },
  {
   "cell_type": "markdown",
   "metadata": {},
   "source": [
    "\n",
    "<p>The colors dataset is stored in the Lego data file on the local hard disk. This is the same path to the local repo</p>"
   ]
  },
  {
   "cell_type": "code",
   "execution_count": 2,
   "metadata": {
    "code_folding": []
   },
   "outputs": [
    {
     "data": {
      "text/html": [
       "<div>\n",
       "<style scoped>\n",
       "    .dataframe tbody tr th:only-of-type {\n",
       "        vertical-align: middle;\n",
       "    }\n",
       "\n",
       "    .dataframe tbody tr th {\n",
       "        vertical-align: top;\n",
       "    }\n",
       "\n",
       "    .dataframe thead th {\n",
       "        text-align: right;\n",
       "    }\n",
       "</style>\n",
       "<table border=\"1\" class=\"dataframe\">\n",
       "  <thead>\n",
       "    <tr style=\"text-align: right;\">\n",
       "      <th></th>\n",
       "      <th>id</th>\n",
       "      <th>name</th>\n",
       "      <th>rgb</th>\n",
       "      <th>is_trans</th>\n",
       "    </tr>\n",
       "  </thead>\n",
       "  <tbody>\n",
       "    <tr>\n",
       "      <th>0</th>\n",
       "      <td>-1</td>\n",
       "      <td>[Unknown]</td>\n",
       "      <td>0033B2</td>\n",
       "      <td>f</td>\n",
       "    </tr>\n",
       "    <tr>\n",
       "      <th>1</th>\n",
       "      <td>0</td>\n",
       "      <td>Black</td>\n",
       "      <td>05131D</td>\n",
       "      <td>f</td>\n",
       "    </tr>\n",
       "    <tr>\n",
       "      <th>2</th>\n",
       "      <td>1</td>\n",
       "      <td>Blue</td>\n",
       "      <td>0055BF</td>\n",
       "      <td>f</td>\n",
       "    </tr>\n",
       "    <tr>\n",
       "      <th>3</th>\n",
       "      <td>2</td>\n",
       "      <td>Green</td>\n",
       "      <td>237841</td>\n",
       "      <td>f</td>\n",
       "    </tr>\n",
       "    <tr>\n",
       "      <th>4</th>\n",
       "      <td>3</td>\n",
       "      <td>Dark Turquoise</td>\n",
       "      <td>008F9B</td>\n",
       "      <td>f</td>\n",
       "    </tr>\n",
       "    <tr>\n",
       "      <th>5</th>\n",
       "      <td>4</td>\n",
       "      <td>Red</td>\n",
       "      <td>C91A09</td>\n",
       "      <td>f</td>\n",
       "    </tr>\n",
       "    <tr>\n",
       "      <th>6</th>\n",
       "      <td>5</td>\n",
       "      <td>Dark Pink</td>\n",
       "      <td>C870A0</td>\n",
       "      <td>f</td>\n",
       "    </tr>\n",
       "    <tr>\n",
       "      <th>7</th>\n",
       "      <td>6</td>\n",
       "      <td>Brown</td>\n",
       "      <td>583927</td>\n",
       "      <td>f</td>\n",
       "    </tr>\n",
       "    <tr>\n",
       "      <th>8</th>\n",
       "      <td>7</td>\n",
       "      <td>Light Gray</td>\n",
       "      <td>9BA19D</td>\n",
       "      <td>f</td>\n",
       "    </tr>\n",
       "    <tr>\n",
       "      <th>9</th>\n",
       "      <td>8</td>\n",
       "      <td>Dark Gray</td>\n",
       "      <td>6D6E5C</td>\n",
       "      <td>f</td>\n",
       "    </tr>\n",
       "  </tbody>\n",
       "</table>\n",
       "</div>"
      ],
      "text/plain": [
       "   id            name     rgb is_trans\n",
       "0  -1       [Unknown]  0033B2        f\n",
       "1   0           Black  05131D        f\n",
       "2   1            Blue  0055BF        f\n",
       "3   2           Green  237841        f\n",
       "4   3  Dark Turquoise  008F9B        f\n",
       "5   4             Red  C91A09        f\n",
       "6   5       Dark Pink  C870A0        f\n",
       "7   6           Brown  583927        f\n",
       "8   7      Light Gray  9BA19D        f\n",
       "9   8       Dark Gray  6D6E5C        f"
      ]
     },
     "execution_count": 2,
     "metadata": {},
     "output_type": "execute_result"
    }
   ],
   "source": [
    "#import modules\n",
    "import pandas as pd\n",
    "\n",
    "#Read the colors dataset\n",
    "colors=pd.read_csv('colors.csv')\n",
    "\n",
    "#Print the first few rows of the Data\n",
    "colors.head(10)"
   ]
  },
  {
   "cell_type": "markdown",
   "metadata": {},
   "source": [
    "## Exploring Colors\n",
    "\n",
    "<p>We have now successfully imported and read the colors data into our python environment. It is now time to do some further analysis... shall we?</p>\n",
    "<p>We will start by trying to get an appreciation of the number of colors available in our dataset. This task is to simply find out the number of unique colors of the legos in the colors dataset. We can do this by checking the number of unique colors available </p>\n",
    "<p>We are going to check the columns available, slice the column that has got the names of the colors, collate all the colors that are in the dataset and then sum all the unique colors up to get the total number of unique colors</p>"
   ]
  },
  {
   "cell_type": "code",
   "execution_count": 3,
   "metadata": {
    "code_folding": []
   },
   "outputs": [
    {
     "data": {
      "text/plain": [
       "179"
      ]
     },
     "execution_count": 3,
     "metadata": {},
     "output_type": "execute_result"
    }
   ],
   "source": [
    "#How many distinct colors are available?\n",
    "colors.columns\n",
    "number_of_colors=colors['name'].value_counts().sum()\n",
    "number_of_colors"
   ]
  },
  {
   "cell_type": "markdown",
   "metadata": {},
   "source": [
    "As we've seen, there are 179 distinct colors in the colors dataset. Now we have to head to the next task"
   ]
  },
  {
   "cell_type": "markdown",
   "metadata": {},
   "source": [
    "## Transparent Colors in Lego Sets\n",
    "<p>The colors data has a column named 'is_trans' that indicates whether a color is transparent or not. It would be interesting to explore the distribution of transparent vs. non-transparent colors. </p>\n",
    "<p>This is what we will be exploring next</p>\n",
    "<p>We will be using pivoting but a different kind. Because there are multiple rows with similar colors, if we apply pivot with index='is_trans', columns='names', the repeated pairs will make that impossible. Said another way, pivot requires unique index, column pairs to identify values in the new table </p>\n",
    "<p>This is where a pivot table comes in. It reshapes much like pivot by summarising the DataFrame with a pair of summarising variables and their values. Pivot tables deal with multiple values for the same index col pair using a reduction.</p>\n",
    "<p>By default, the reduction is the mean. Here, we will have to use a different reduction method: 'count'</p>\n"
   ]
  },
  {
   "cell_type": "code",
   "execution_count": 4,
   "metadata": {
    "code_folding": [
     0
    ]
   },
   "outputs": [
    {
     "data": {
      "text/html": [
       "<div>\n",
       "<style scoped>\n",
       "    .dataframe tbody tr th:only-of-type {\n",
       "        vertical-align: middle;\n",
       "    }\n",
       "\n",
       "    .dataframe tbody tr th {\n",
       "        vertical-align: top;\n",
       "    }\n",
       "\n",
       "    .dataframe thead th {\n",
       "        text-align: right;\n",
       "    }\n",
       "</style>\n",
       "<table border=\"1\" class=\"dataframe\">\n",
       "  <thead>\n",
       "    <tr style=\"text-align: right;\">\n",
       "      <th></th>\n",
       "      <th>id</th>\n",
       "      <th>name</th>\n",
       "      <th>rgb</th>\n",
       "    </tr>\n",
       "    <tr>\n",
       "      <th>is_trans</th>\n",
       "      <th></th>\n",
       "      <th></th>\n",
       "      <th></th>\n",
       "    </tr>\n",
       "  </thead>\n",
       "  <tbody>\n",
       "    <tr>\n",
       "      <th>f</th>\n",
       "      <td>151</td>\n",
       "      <td>151</td>\n",
       "      <td>151</td>\n",
       "    </tr>\n",
       "    <tr>\n",
       "      <th>t</th>\n",
       "      <td>28</td>\n",
       "      <td>28</td>\n",
       "      <td>28</td>\n",
       "    </tr>\n",
       "  </tbody>\n",
       "</table>\n",
       "</div>"
      ],
      "text/plain": [
       "           id  name  rgb\n",
       "is_trans                \n",
       "f         151   151  151\n",
       "t          28    28   28"
      ]
     },
     "execution_count": 4,
     "metadata": {},
     "output_type": "execute_result"
    }
   ],
   "source": [
    "#color summary: Distribution of colors based on transparency\n",
    "colors_summary=colors.pivot_table(index='is_trans', aggfunc='count')\n",
    "colors_summary"
   ]
  },
  {
   "cell_type": "markdown",
   "metadata": {},
   "source": [
    "# Exploring and Visualising Lego Sets"
   ]
  },
  {
   "cell_type": "markdown",
   "metadata": {},
   "source": [
    "## Explore Lego Sets\n",
    "<p>Another interesting dataset available in this database is the 'Sets' data. It contains a comprehensive list of sets over the years and the number of parts that each of these sets contained.</p>\n",
    "<p>We are going to use this data to explore how the average number of parts by year in Lego sets has varied over the years.</p>\n",
    "<p>Remember we are using the May 2019 dataset [2019-06-01 12:28:34] from the rebrickable.com website... so your output may vary with the output of the code below because of the variation of the dates </p>\n",
    "<p>We will import all necessary modules, import the data and explore the average number of parts per year and see  </p>"
   ]
  },
  {
   "cell_type": "code",
   "execution_count": 5,
   "metadata": {
    "code_folding": []
   },
   "outputs": [
    {
     "data": {
      "text/plain": [
       "year\n",
       "1949     99.600000\n",
       "1950      1.000000\n",
       "1953     13.500000\n",
       "1954     12.357143\n",
       "1955     36.607143\n",
       "1956     18.923077\n",
       "1957     44.750000\n",
       "1958     41.130435\n",
       "1959     16.250000\n",
       "1960    175.333333\n",
       "Name: num_parts, dtype: float64"
      ]
     },
     "execution_count": 5,
     "metadata": {},
     "output_type": "execute_result"
    }
   ],
   "source": [
    "#Import the data set\n",
    "sets=pd.read_csv('sets.csv')\n",
    "\n",
    "#Create a summary of average number of parts by year\n",
    "parts_by_year=sets.groupby('year')['num_parts'].mean()\n",
    "\n",
    "#print first few rows of the summary of average number of parts by year\n",
    "parts_by_year.head(10)\n"
   ]
  },
  {
   "cell_type": "markdown",
   "metadata": {},
   "source": [
    "## Visualising Lego Sets\n",
    "<p>We are going to visualise the average number of parts by year in Lego sets </p>\n",
    "<p>We will employ the matplotlib magic to show the plots in the notebook</p>"
   ]
  },
  {
   "cell_type": "code",
   "execution_count": 6,
   "metadata": {
    "code_folding": [
     0
    ]
   },
   "outputs": [
    {
     "data": {
      "text/plain": [
       "<matplotlib.axes._subplots.AxesSubplot at 0x1f47f3d3828>"
      ]
     },
     "execution_count": 6,
     "metadata": {},
     "output_type": "execute_result"
    },
    {
     "data": {
      "image/png": "[encoded data removed]",
      "text/plain": [
       "<Figure size 432x288 with 1 Axes>"
      ]
     },
     "metadata": {
      "needs_background": "light"
     },
     "output_type": "display_data"
    }
   ],
   "source": [
    "#call magic\n",
    "%matplotlib inline\n",
    "\n",
    "#Visualise the average number of parts by year\n",
    "parts_by_year.plot()\n"
   ]
  },
  {
   "cell_type": "markdown",
   "metadata": {},
   "source": [
    "# Lego Themes Over Years\n",
    "<p>Lego blocks ship under multiple themes. Let us try to get a sense of how the number of themes shipped has varied over the years.</p>\n",
    "<p>We are going to create a summary of the number of themes shipped by year, save it as a Dataframe and print the first couple of rows</p>"
   ]
  },
  {
   "cell_type": "code",
   "execution_count": 7,
   "metadata": {
    "code_folding": [],
    "lang": "en"
   },
   "outputs": [
    {
     "data": {
      "text/html": [
       "<div>\n",
       "<style scoped>\n",
       "    .dataframe tbody tr th:only-of-type {\n",
       "        vertical-align: middle;\n",
       "    }\n",
       "\n",
       "    .dataframe tbody tr th {\n",
       "        vertical-align: top;\n",
       "    }\n",
       "\n",
       "    .dataframe thead th {\n",
       "        text-align: right;\n",
       "    }\n",
       "</style>\n",
       "<table border=\"1\" class=\"dataframe\">\n",
       "  <thead>\n",
       "    <tr style=\"text-align: right;\">\n",
       "      <th></th>\n",
       "      <th>theme_id</th>\n",
       "    </tr>\n",
       "    <tr>\n",
       "      <th>year</th>\n",
       "      <th></th>\n",
       "    </tr>\n",
       "  </thead>\n",
       "  <tbody>\n",
       "    <tr>\n",
       "      <th>1965</th>\n",
       "      <td>1</td>\n",
       "    </tr>\n",
       "    <tr>\n",
       "      <th>1978</th>\n",
       "      <td>84</td>\n",
       "    </tr>\n",
       "    <tr>\n",
       "      <th>1987</th>\n",
       "      <td>199</td>\n",
       "    </tr>\n",
       "    <tr>\n",
       "      <th>1979</th>\n",
       "      <td>143</td>\n",
       "    </tr>\n",
       "    <tr>\n",
       "      <th>1979</th>\n",
       "      <td>143</td>\n",
       "    </tr>\n",
       "    <tr>\n",
       "      <th>1979</th>\n",
       "      <td>143</td>\n",
       "    </tr>\n",
       "    <tr>\n",
       "      <th>1979</th>\n",
       "      <td>143</td>\n",
       "    </tr>\n",
       "    <tr>\n",
       "      <th>1978</th>\n",
       "      <td>186</td>\n",
       "    </tr>\n",
       "    <tr>\n",
       "      <th>1965</th>\n",
       "      <td>1</td>\n",
       "    </tr>\n",
       "    <tr>\n",
       "      <th>1966</th>\n",
       "      <td>366</td>\n",
       "    </tr>\n",
       "  </tbody>\n",
       "</table>\n",
       "</div>"
      ],
      "text/plain": [
       "      theme_id\n",
       "year          \n",
       "1965         1\n",
       "1978        84\n",
       "1987       199\n",
       "1979       143\n",
       "1979       143\n",
       "1979       143\n",
       "1979       143\n",
       "1978       186\n",
       "1965         1\n",
       "1966       366"
      ]
     },
     "execution_count": 7,
     "metadata": {},
     "output_type": "execute_result"
    }
   ],
   "source": [
    "#theme_by_year: Number of themes shipped by year\n",
    "themes_by_year = pd.DataFrame(sets[['year','theme_id']].head(10))\n",
    "themes_by_year.index = themes_by_year['year']\n",
    "del themes_by_year['year']\n",
    "themes_by_year"
   ]
  },
  {
   "cell_type": "markdown",
   "metadata": {},
   "source": [
    "Next question left to be ans"
   ]
  }
 ],
 "metadata": {
  "kernelspec": {
   "display_name": "Python 3",
   "language": "python",
   "name": "python3"
  },
  "language_info": {
   "codemirror_mode": {
    "name": "ipython",
    "version": 3
   },
   "file_extension": ".py",
   "mimetype": "text/x-python",
   "name": "python",
   "nbconvert_exporter": "python",
   "pygments_lexer": "ipython3",
   "version": "3.7.3"
  },
  "nbTranslate": {
   "displayLangs": [
    "*"
   ],
   "hotkey": "alt-t",
   "langInMainMenu": true,
   "sourceLang": "en",
   "targetLang": "fr",
   "useGoogleTranslate": true
  },
  "toc": {
   "base_numbering": 1,
   "nav_menu": {},
   "number_sections": true,
   "sideBar": true,
   "skip_h1_title": false,
   "title_cell": "Table of Contents",
   "title_sidebar": "Contents",
   "toc_cell": false,
   "toc_position": {
    "height": "542.4px",
    "left": "57px",
    "top": "180px",
    "width": "292.6px"
   },
   "toc_section_display": true,
   "toc_window_display": true
  }
 },
 "nbformat": 4,
 "nbformat_minor": 2
}
